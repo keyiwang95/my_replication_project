{
 "cells": [
  {
   "cell_type": "code",
   "execution_count": 2,
   "metadata": {},
   "outputs": [],
   "source": [
    "\"\"\"\n",
    "This file contains our SQL Query to Wharton Research Dataservices (WRDS).\n",
    "\n",
    "We connect to the database, and then submit a query per year. This code was\n",
    "written by Keyi Wang, and is used to pull data from WRDS for the S&P 500 index\n",
    "options data, S&P 500 index closing prices, and risk-free rate data.\n",
    "\"\"\"\n",
    "\n",
    "import time\n",
    "from pathlib import Path\n",
    "from dateutil.relativedelta import relativedelta\n",
    "from datetime import datetime\n",
    "import pandas as pd\n",
    "import wrds\n",
    "\n",
    "from settings import config\n",
    "\n",
    "OUTPUT_DIR = Path(config(\"OUTPUT_DIR\"))\n",
    "DATA_DIR = Path(config(\"DATA_DIR\"))\n",
    "WRDS_USERNAME = config(\"WRDS_USERNAME\")"
   ]
  },
  {
   "cell_type": "code",
   "execution_count": null,
   "metadata": {},
   "outputs": [
    {
     "name": "stdout",
     "output_type": "stream",
     "text": [
      "Loading library list...\n",
      "Done\n"
     ]
    }
   ],
   "source": [
    "\n",
    "\n",
    "# # Read WRDS_USERNAME from .env\n",
    "# WRDS_USERNAME = config(\"WRDS_USERNAME\")\n",
    "\n",
    "# # Connect to WRDS\n",
    "# db = wrds.Connection(wrds_username=WRDS_USERNAME)\n",
    "\n",
    "# # SECID for S&P 500 options\n",
    "# secid = 108105  \n",
    "\n",
    "# # Define the range of years\n",
    "# years = range(1996, 2022)\n",
    "\n",
    "# # Store query results\n",
    "# option_data_list = []\n",
    "# forward_price_list = []\n",
    "\n",
    "# for year in years:\n",
    "#     # --- Extract option data ---\n",
    "#     option_query = f\"\"\"\n",
    "#     SELECT date, secid, strike_price, cp_flag, best_bid, best_offer, volume, \n",
    "#            open_interest, impl_volatility, exdate\n",
    "#     FROM optionm.opprcd{year}\n",
    "#     WHERE secid = {secid} \n",
    "#     AND EXTRACT(DAY FROM date) = 15\n",
    "#     \"\"\"\n",
    "#     option_df = db.raw_sql(option_query)\n",
    "#     option_data_list.append(option_df)\n",
    "\n",
    "# # Close WRDS connection\n",
    "# db.close()\n",
    "\n",
    "\n"
   ]
  },
  {
   "cell_type": "code",
   "execution_count": 8,
   "metadata": {},
   "outputs": [
    {
     "name": "stdout",
     "output_type": "stream",
     "text": [
      "Loading library list...\n",
      "Done\n"
     ]
    }
   ],
   "source": [
    "import wrds\n",
    "import pandas as pd\n",
    "from decouple import config\n",
    "\n",
    "# Read WRDS_USERNAME from .env\n",
    "WRDS_USERNAME = config(\"WRDS_USERNAME\")\n",
    "\n",
    "# Connect to WRDS\n",
    "db = wrds.Connection(wrds_username=WRDS_USERNAME)\n",
    "\n",
    "# SECID for S&P 500 options\n",
    "secid = 108105  \n",
    "\n",
    "# Define the range of years\n",
    "years = range(1996, 2022)\n",
    "\n",
    "# Store query results\n",
    "option_data_list = []\n",
    "\n",
    "for year in years:\n",
    "    # --- Optimized query: support multiple expiration intervals ---\n",
    "    option_query = f\"\"\"\n",
    "    WITH first_trading_day AS (\n",
    "        SELECT DATE_TRUNC('month', date) AS month, MIN(date) AS first_day\n",
    "        FROM optionm.opprcd{year}\n",
    "        WHERE secid = {secid}\n",
    "        GROUP BY month\n",
    "    )\n",
    "    SELECT o.date, o.secid, o.strike_price, o.cp_flag, o.best_bid, o.best_offer, \n",
    "           o.volume, o.open_interest, o.impl_volatility, o.exdate\n",
    "    FROM optionm.opprcd{year} o\n",
    "    INNER JOIN first_trading_day f\n",
    "    ON o.date = f.first_day\n",
    "    WHERE o.secid = {secid}\n",
    "    AND EXTRACT(MONTH FROM age(o.exdate, o.date)) IN (0, 1, 2, 3, 5, 6, 7, 10, 11, 12, 13);\n",
    "    \"\"\"\n",
    "    \n",
    "    option_df = db.raw_sql(option_query)   # days_to_expiration must be large than 7\n",
    "    option_data_list.append(option_df)\n",
    "\n",
    "\n",
    "# 关闭 WRDS 连接\n",
    "db.close()\n",
    "\n"
   ]
  },
  {
   "cell_type": "code",
   "execution_count": null,
   "metadata": {},
   "outputs": [],
   "source": []
  },
  {
   "cell_type": "code",
   "execution_count": 9,
   "metadata": {},
   "outputs": [
    {
     "name": "stdout",
     "output_type": "stream",
     "text": [
      "✅ Data has been sorted by months_to_expiry and saved!\n"
     ]
    }
   ],
   "source": [
    "# Merge all data\n",
    "option_data = pd.concat(option_data_list, ignore_index=True)\n",
    "    \n",
    "# Calculate mid price\n",
    "option_data[\"mid_price\"] = (option_data[\"best_bid\"] + option_data[\"best_offer\"]) / 2\n",
    "\n",
    "# Convert date and exdate to datetime format\n",
    "option_data[\"date\"] = pd.to_datetime(option_data[\"date\"])\n",
    "option_data[\"exdate\"] = pd.to_datetime(option_data[\"exdate\"])\n",
    "\n",
    "# Calculate the number of months between date and exdate\n",
    "option_data[\"months_to_expiry\"] = option_data.apply(\n",
    "    lambda row: (relativedelta(row[\"exdate\"], row[\"date\"]).years * 12 + \n",
    "                 relativedelta(row[\"exdate\"], row[\"date\"]).months), \n",
    "    axis=1\n",
    ")\n",
    "\n",
    "# Sort data by date and months_to_expiry in ascending order\n",
    "option_data = option_data.sort_values(by=[\"date\", \"months_to_expiry\"]).reset_index(drop=True)\n",
    "\n",
    "# Save data\n",
    "option_data.to_csv(\"sp500_option_data_15th_sorted_1996_2021.csv\", index=False)\n",
    "print(\"✅ Data has been sorted by months_to_expiry and saved!\")\n",
    "\n"
   ]
  },
  {
   "cell_type": "code",
   "execution_count": 10,
   "metadata": {},
   "outputs": [
    {
     "name": "stdout",
     "output_type": "stream",
     "text": [
      "✅ Cleaned SPX options data saved as 'SPX_Options_Cleaned.csv'.\n",
      "          date     secid  strike_price cp_flag  best_bid  best_offer  volume  \\\n",
      "42  1996-01-04  108105.0      610000.0       C   10.0000      10.375   444.0   \n",
      "20  1996-01-04  108105.0      615000.0       C    7.5000       8.000   465.0   \n",
      "17  1996-01-04  108105.0      620000.0       C    4.5000       4.875  2606.0   \n",
      "44  1996-01-04  108105.0      625000.0       C    2.2500       2.500  2671.0   \n",
      "9   1996-01-04  108105.0      630000.0       C    1.1875       1.375  4022.0   \n",
      "\n",
      "    open_interest  impl_volatility      exdate  mid_price  months_to_expiry  \n",
      "42         5905.0         0.082711  1996-01-20   10.18750                 0  \n",
      "20         4270.0         0.109019  1996-01-20    7.75000                 0  \n",
      "17         6635.0         0.101986  1996-01-20    4.68750                 0  \n",
      "44          252.0         0.094241  1996-01-20    2.37500                 0  \n",
      "9          5969.0         0.097356  1996-01-20    1.28125                 0  \n"
     ]
    }
   ],
   "source": [
    "import pandas as pd\n",
    "import numpy as np\n",
    "\n",
    "# Load the SPX options data\n",
    "df = pd.read_csv(\"sp500_option_data_15th_sorted_1996_2021.csv\")\n",
    "\n",
    "# ---- Filter 1: Drop options with special settlement ----\n",
    "\n",
    "# ---- Filter 2: Select the quote with the highest open interest for duplicate quotes ----\n",
    "df = df.sort_values(by=['date', 'exdate', 'cp_flag',  'strike_price'], ascending=[True, True, True, True])\n",
    "\n",
    "# ---- Filter 3: Drop options with fewer than 7 days to maturity ----\n",
    "\n",
    "# ---- Filter 4: Drop options with price less than 0.01 ----\n",
    "df = df[df['mid_price'] >= 0.01]\n",
    "\n",
    "# ---- Filter 5: Drop options with zero bid prices or negative bid-ask spreads ----\n",
    "df = df[(df['best_bid'] > 0) & (df['best_offer'] > df['best_bid'])]\n",
    "\n",
    "# ---- Filter 6: Drop options that violate static no-arbitrage bounds ----\n",
    "# Ensure required columns exist\n",
    "\n",
    "# ---- Filter 7: Use Existing Implied Volatility Column ----\n",
    "df = df[(df['impl_volatility'] >= 0.05) & (df['impl_volatility'] <= 1.0)]\n",
    "\n",
    "# ---- Save the cleaned data ----\n",
    "df.to_csv(\"SPX_Options_Cleaned.csv\", index=False)\n",
    "\n",
    "print(\"✅ Cleaned SPX options data saved as 'SPX_Options_Cleaned.csv'.\")\n",
    "print(df.head())\n"
   ]
  },
  {
   "cell_type": "code",
   "execution_count": 11,
   "metadata": {},
   "outputs": [
    {
     "name": "stdout",
     "output_type": "stream",
     "text": [
      "        date     secid  strike_price cp_flag  best_bid  best_offer  volume  \\\n",
      "0 1996-01-04  108105.0      610000.0       C   10.0000      10.375   444.0   \n",
      "1 1996-01-04  108105.0      615000.0       C    7.5000       8.000   465.0   \n",
      "2 1996-01-04  108105.0      620000.0       C    4.5000       4.875  2606.0   \n",
      "3 1996-01-04  108105.0      625000.0       C    2.2500       2.500  2671.0   \n",
      "4 1996-01-04  108105.0      630000.0       C    1.1875       1.375  4022.0   \n",
      "\n",
      "   open_interest  impl_volatility      exdate  mid_price  months_to_expiry  \\\n",
      "0         5905.0         0.082711  1996-01-20   10.18750                 0   \n",
      "1         4270.0         0.109019  1996-01-20    7.75000                 0   \n",
      "2         6635.0         0.101986  1996-01-20    4.68750                 0   \n",
      "3          252.0         0.094241  1996-01-20    2.37500                 0   \n",
      "4         5969.0         0.097356  1996-01-20    1.28125                 0   \n",
      "\n",
      "  year_month  \n",
      "0    1996-01  \n",
      "1    1996-01  \n",
      "2    1996-01  \n",
      "3    1996-01  \n",
      "4    1996-01  \n"
     ]
    }
   ],
   "source": [
    "import pandas as pd\n",
    "\n",
    "# Read the CSV file\n",
    "df = pd.read_csv(\"SPX_Options_Cleaned.csv\")\n",
    "\n",
    "# Ensure the 'date' column is in datetime format\n",
    "df['date'] = pd.to_datetime(df['date'])\n",
    "\n",
    "# Extract the year and month in \"YYYY-MM\" format\n",
    "df['year_month'] = df['date'].dt.strftime('%Y-%m')\n",
    "\n",
    "# Save the processed data to a new CSV file\n",
    "df.to_csv(\"SPX_Options_Monthly.csv\", index=False)\n",
    "\n",
    "print(df.head())  # Display the first few rows to verify the transformation\n"
   ]
  },
  {
   "cell_type": "code",
   "execution_count": null,
   "metadata": {},
   "outputs": [
    {
     "name": "stdout",
     "output_type": "stream",
     "text": [
      "        date    sprtrn  spindx  risk free rate      fwd_6m    fwdprc_6m  \\\n",
      "0 1996-01-31  0.032617  636.02        0.071522  647.290526  647290.5261   \n",
      "1 1996-02-29  0.006934  640.43        0.019370  649.158156  649158.1556   \n",
      "2 1996-03-29  0.007917  645.50        0.026780  657.792004  657792.0039   \n",
      "3 1996-04-30  0.013432  654.17        0.007053  665.488006  665488.0064   \n",
      "4 1996-05-31  0.022853  669.12        0.044384  683.091414  683091.4137   \n",
      "\n",
      "       Pt year_month  \n",
      "0  636020    1996-01  \n",
      "1  640430    1996-02  \n",
      "2  645500    1996-03  \n",
      "3  654170    1996-04  \n",
      "4  669120    1996-05  \n"
     ]
    }
   ],
   "source": [
    "import pandas as pd\n",
    "\n",
    "# Read the CSV file\n",
    "df = pd.read_csv(\"SP500_index_with_fwd_prices.csv\")\n",
    "\n",
    "# Ensure the 'date' column is in datetime format\n",
    "df['date'] = pd.to_datetime(df['date'], errors='coerce')\n",
    "\n",
    "# Extract the year and month in \"YYYY-MM\" format\n",
    "df['year_month'] = df['date'].dt.strftime('%Y-%m')\n",
    "\n",
    "# Save the processed data to a new CSV file\n",
    "df.to_csv(\"SP500_index_monthly.csv\", index=False)\n",
    "\n",
    "# Display the first few rows to verify the transformation\n",
    "print(df.head())\n",
    "\n"
   ]
  },
  {
   "cell_type": "markdown",
   "metadata": {},
   "source": [
    "# Forward Price Calculation Formula\n",
    "\n",
    "For a given time \\( t \\) with index price \\( S_t \\), the forward price for 6 months ahead, \\( F_t(6) \\), is calculated using the following formula:\n",
    "\n",
    "\\[\n",
    "F_t(6) = S_t \\times e^{r(6)}\n",
    "\\]\n",
    "\n",
    "where:\n",
    "- \\( S_t \\) is the spot index price at time \\( t \\);\n",
    "- \\( r(6) \\) is the cumulative risk-free rate over the next 6 months, defined as:\n",
    "\n",
    "  \\[\n",
    "  r(6) = \\sum_{i=0}^{5} \\frac{r_{t+i}}{12}\n",
    "  \\]\n",
    "\n",
    "  where \\( r_{t+i} \\) represents the annualized risk-free rate at time \\( t+i \\), which is converted into a cumulative 6-month value.\n",
    "\n",
    "## Calculation Steps\n",
    "1. Read the index price \\( S_t \\) and the corresponding risk-free rate \\( r_t \\).\n",
    "2. Compute the cumulative risk-free rate over the next 6 months:\n",
    "\n",
    "   \\[\n",
    "   r(6) = \\frac{1}{12} \\sum_{i=0}^{5} r_{t+i}\n",
    "   \\]\n",
    "\n",
    "3. Calculate the forward price:\n",
    "\n",
    "   \\[\n",
    "   F_t(6) = S_t \\times e^{r(6)}\n",
    "   \\]\n",
    "\n",
    "4. If \\( t+6 \\) exceeds the data range, the forward price cannot be computed and is left as a null value.\n",
    "\n"
   ]
  },
  {
   "cell_type": "code",
   "execution_count": 3,
   "metadata": {},
   "outputs": [
    {
     "name": "stdout",
     "output_type": "stream",
     "text": [
      "Loading library list...\n",
      "Done\n"
     ]
    }
   ],
   "source": [
    "# Connect to WRDS\n",
    "db = wrds.Connection(wrds_username=WRDS_USERNAME)\n",
    "\n",
    "# Store data for all years\n",
    "rf_data_list = []\n",
    "\n",
    "for year in range(1996, 2022):\n",
    "    try:\n",
    "        rf_query = f\"\"\"\n",
    "        SELECT date, borrowrate\n",
    "        FROM optionm.borrate{year}\n",
    "        WHERE borrowrate != -99.990000  -- Filter out invalid data\n",
    "        \"\"\"\n",
    "        rf_year_data = db.raw_sql(rf_query)\n",
    "\n",
    "        if not rf_year_data.empty:\n",
    "            rf_data_list.append(rf_year_data)\n",
    "        else:\n",
    "            print(f\"⚠️ No valid Borrow Rate data for {year}.\")\n",
    "\n",
    "    except Exception as e:\n",
    "        print(f\"❌ Failed to retrieve `borrate` data for {year}: {e}\")\n",
    "\n",
    "# Merge data from all years\n",
    "if rf_data_list:\n",
    "    rf_data = pd.concat(rf_data_list, ignore_index=True)\n",
    "else:\n",
    "    print(\"❌ No Borrow Rate data retrieved!\")\n",
    "\n",
    "# Close WRDS connection\n",
    "db.close()\n"
   ]
  },
  {
   "cell_type": "code",
   "execution_count": null,
   "metadata": {},
   "outputs": [
    {
     "name": "stderr",
     "output_type": "stream",
     "text": [
      "C:\\Users\\HUAWEI\\AppData\\Local\\Temp\\ipykernel_25992\\1887038002.py:2: FutureWarning: 'M' is deprecated and will be removed in a future version, please use 'ME' instead.\n",
      "  monthly_rf_data = rf_data.resample('M').first().reset_index()\n"
     ]
    },
    {
     "name": "stdout",
     "output_type": "stream",
     "text": [
      "✅ 每月的风险利率已保存至 `monthly_risk_free_rate.csv`！\n",
      "        date  borrowrate\n",
      "0 1996-01-31    0.071522\n",
      "1 1996-02-29    0.019370\n",
      "2 1996-03-31    0.026780\n",
      "3 1996-04-30    0.007053\n",
      "4 1996-05-31    0.044384\n"
     ]
    }
   ],
   "source": [
    "# Select the first record of each month\n",
    "monthly_rf_data = rf_data.resample('M').first().reset_index()\n",
    "\n",
    "# Ensure no invalid data is included\n",
    "monthly_rf_data = monthly_rf_data[monthly_rf_data[\"borrowrate\"] != -99.990000]\n",
    "\n",
    "# Save data to a CSV file\n",
    "monthly_rf_data.to_csv(\"monthly_risk_free_rate.csv\", index=False)\n",
    "\n",
    "print(\"✅ Monthly risk-free rate has been saved to `monthly_risk_free_rate.csv`!\")\n",
    "# Display results\n",
    "print(monthly_rf_data.head())\n",
    "\n"
   ]
  },
  {
   "cell_type": "code",
   "execution_count": null,
   "metadata": {},
   "outputs": [
    {
     "name": "stdout",
     "output_type": "stream",
     "text": [
      "WRDS recommends setting up a .pgpass file.\n",
      "Created .pgpass file successfully.\n",
      "You can create this file yourself at any time with the create_pgpass_file() function.\n",
      "Loading library list...\n",
      "Done\n",
      "CSV file saved: SP500_index_data_1996_2021.csv\n",
      "        date    sprtrn  spindx\n",
      "0 1996-01-31  0.032617  636.02\n",
      "1 1996-02-29  0.006934  640.43\n",
      "2 1996-03-29  0.007917  645.50\n",
      "3 1996-04-30  0.013432  654.17\n",
      "4 1996-05-31  0.022853  669.12\n"
     ]
    }
   ],
   "source": [
    "conn = wrds.Connection(wrds_username='WRDS_USERNAME')  # Connect to WRDS\n",
    "\n",
    "# Query the S&P 500 index options data\n",
    "query = \"\"\"\n",
    "SELECT caldt, sprtrn, spindx\n",
    "FROM crsp.msp500\n",
    "WHERE caldt BETWEEN '1996-01-01' AND '2021-12-31'\n",
    "\"\"\"\n",
    "df_index = conn.raw_sql(query)\n",
    "\n",
    "# Rename and format the date column\n",
    "df_index = df_index.rename(columns={'caldt': 'date'})\n",
    "df_index['date'] = pd.to_datetime(df_index['date'])\n",
    "\n",
    "# Save as CSV\n",
    "df_index.to_csv(\"SP500_index_data_1996_2021.csv\", index=False)\n",
    "\n",
    "# Check output\n",
    "print(\"CSV file saved: SP500_index_data_1996_2021.csv\")\n",
    "print(df_index.head())\n",
    "\n",
    "# Close WRDS connection\n",
    "conn.close()\n",
    "\n"
   ]
  }
 ],
 "metadata": {
  "kernelspec": {
   "display_name": "base",
   "language": "python",
   "name": "python3"
  },
  "language_info": {
   "codemirror_mode": {
    "name": "ipython",
    "version": 3
   },
   "file_extension": ".py",
   "mimetype": "text/x-python",
   "name": "python",
   "nbconvert_exporter": "python",
   "pygments_lexer": "ipython3",
   "version": "3.12.7"
  }
 },
 "nbformat": 4,
 "nbformat_minor": 2
}
