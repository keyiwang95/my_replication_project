{
 "cells": [
  {
   "cell_type": "code",
   "execution_count": null,
   "metadata": {
    "vscode": {
     "languageId": "sql"
    }
   },
   "outputs": [],
   "source": []
  },
  {
   "cell_type": "code",
   "execution_count": null,
   "metadata": {},
   "outputs": [],
   "source": [
    "\"\"\"\n",
    "This file contains our SQL Query to Wharton Research Dataservices (WRDS).\n",
    "\n",
    "We connect to the database, and then submit a query per year. This code was\n",
    "written by Keyi Wang, and is used to pull data from WRDS for the S&P 500 index\n",
    "options data, S&P 500 index closing prices, and risk-free rate data.\n",
    "\"\"\"\n",
    "\n",
    "import time\n",
    "from pathlib import Path\n",
    "\n",
    "import pandas as pd\n",
    "import wrds\n",
    "\n",
    "from settings import config\n",
    "\n",
    "OUTPUT_DIR = Path(config(\"OUTPUT_DIR\"))\n",
    "DATA_DIR = Path(config(\"DATA_DIR\"))\n",
    "WRDS_USERNAME = config(\"WRDS_USERNAME\")"
   ]
  },
  {
   "cell_type": "code",
   "execution_count": null,
   "metadata": {},
   "outputs": [
    {
     "name": "stdout",
     "output_type": "stream",
     "text": [
      "Loading library list...\n",
      "Done\n",
      "✅ 数据下载完成！\n"
     ]
    }
   ],
   "source": [
    "import wrds\n",
    "import pandas as pd\n",
    "from decouple import config\n",
    "from dateutil.relativedelta import relativedelta\n",
    "\n",
    "# Read WRDS_USERNAME from .env\n",
    "WRDS_USERNAME = config(\"WRDS_USERNAME\")\n",
    "\n",
    "# Connect to WRDS\n",
    "db = wrds.Connection(wrds_username=WRDS_USERNAME)\n",
    "\n",
    "# SECID for S&P 500 options\n",
    "secid = 108105  \n",
    "\n",
    "# Define the range of years\n",
    "years = range(1996, 2022)\n",
    "\n",
    "# Store query results\n",
    "option_data_list = []\n",
    "\n",
    "for year in years:\n",
    "    # Check if the table exists\n",
    "    tables = db.list_tables('optionm')\n",
    "    if f\"opprcd{year}\" not in tables:\n",
    "        print(f\"⚠️ Option data table for {year} does not exist, skipping...\")\n",
    "        continue\n",
    "\n",
    "    # Query S&P 500 options data (keep all records from the 15th of each month)\n",
    "    option_query = f\"\"\"\n",
    "    SELECT date, secid, strike_price, cp_flag, best_bid, best_offer, volume, \n",
    "           open_interest, impl_volatility, exdate\n",
    "    FROM optionm.opprcd{year}\n",
    "    WHERE secid = {secid} \n",
    "    AND EXTRACT(DAY FROM date) = 15\n",
    "    \"\"\"\n",
    "    option_df = db.raw_sql(option_query)\n",
    "    option_data_list.append(option_df)\n",
    "\n",
    "# Close WRDS connection\n",
    "db.close()\n",
    "\n",
    "\n"
   ]
  },
  {
   "cell_type": "code",
   "execution_count": null,
   "metadata": {},
   "outputs": [
    {
     "name": "stdout",
     "output_type": "stream",
     "text": [
      "✅ 数据已按 months_to_expiry 排序并保存！\n"
     ]
    }
   ],
   "source": [
    "# Merge all data\n",
    "option_data = pd.concat(option_data_list, ignore_index=True)\n",
    "    \n",
    "# Calculate mid price\n",
    "option_data[\"mid_price\"] = (option_data[\"best_bid\"] + option_data[\"best_offer\"]) / 2\n",
    "\n",
    "# Convert date and exdate to datetime format\n",
    "option_data[\"date\"] = pd.to_datetime(option_data[\"date\"])\n",
    "option_data[\"exdate\"] = pd.to_datetime(option_data[\"exdate\"])\n",
    "\n",
    "# Calculate the number of months between date and exdate\n",
    "option_data[\"months_to_expiry\"] = option_data.apply(\n",
    "    lambda row: (relativedelta(row[\"exdate\"], row[\"date\"]).years * 12 + \n",
    "                 relativedelta(row[\"exdate\"], row[\"date\"]).months), \n",
    "    axis=1\n",
    ")\n",
    "\n",
    "# Sort data by date and months_to_expiry in ascending order\n",
    "option_data = option_data.sort_values(by=[\"date\", \"months_to_expiry\"]).reset_index(drop=True)\n",
    "\n",
    "# Save data\n",
    "option_data.to_csv(\"sp500_option_data_15th_sorted_1996_2021.csv\", index=False)\n",
    "print(\"✅ Data has been sorted by months_to_expiry and saved!\")\n",
    "\n"
   ]
  },
  {
   "cell_type": "code",
   "execution_count": null,
   "metadata": {},
   "outputs": [
    {
     "name": "stdout",
     "output_type": "stream",
     "text": [
      "Loading library list...\n",
      "Done\n"
     ]
    }
   ],
   "source": [
    "# Connect to WRDS\n",
    "db = wrds.Connection(wrds_username=WRDS_USERNAME)\n",
    "\n",
    "# Store data for all years\n",
    "rf_data_list = []\n",
    "\n",
    "for year in range(1996, 2022):\n",
    "    try:\n",
    "        rf_query = f\"\"\"\n",
    "        SELECT date, borrowrate\n",
    "        FROM optionm.borrate{year}\n",
    "        WHERE borrowrate != -99.990000  -- Filter out invalid data\n",
    "        \"\"\"\n",
    "        rf_year_data = db.raw_sql(rf_query)\n",
    "\n",
    "        if not rf_year_data.empty:\n",
    "            rf_data_list.append(rf_year_data)\n",
    "        else:\n",
    "            print(f\"⚠️ No valid Borrow Rate data for {year}.\")\n",
    "\n",
    "    except Exception as e:\n",
    "        print(f\"❌ Failed to retrieve `borrate` data for {year}: {e}\")\n",
    "\n",
    "# Merge data from all years\n",
    "if rf_data_list:\n",
    "    rf_data = pd.concat(rf_data_list, ignore_index=True)\n",
    "else:\n",
    "    print(\"❌ No Borrow Rate data retrieved!\")\n",
    "\n",
    "# Close WRDS connection\n",
    "db.close()\n"
   ]
  },
  {
   "cell_type": "code",
   "execution_count": null,
   "metadata": {},
   "outputs": [
    {
     "name": "stderr",
     "output_type": "stream",
     "text": [
      "C:\\Users\\HUAWEI\\AppData\\Local\\Temp\\ipykernel_25992\\1887038002.py:2: FutureWarning: 'M' is deprecated and will be removed in a future version, please use 'ME' instead.\n",
      "  monthly_rf_data = rf_data.resample('M').first().reset_index()\n"
     ]
    },
    {
     "name": "stdout",
     "output_type": "stream",
     "text": [
      "✅ 每月的风险利率已保存至 `monthly_risk_free_rate.csv`！\n",
      "        date  borrowrate\n",
      "0 1996-01-31    0.071522\n",
      "1 1996-02-29    0.019370\n",
      "2 1996-03-31    0.026780\n",
      "3 1996-04-30    0.007053\n",
      "4 1996-05-31    0.044384\n"
     ]
    }
   ],
   "source": [
    "# Select the first record of each month\n",
    "monthly_rf_data = rf_data.resample('M').first().reset_index()\n",
    "\n",
    "# Ensure no invalid data is included\n",
    "monthly_rf_data = monthly_rf_data[monthly_rf_data[\"borrowrate\"] != -99.990000]\n",
    "\n",
    "# Save data to a CSV file\n",
    "monthly_rf_data.to_csv(\"monthly_risk_free_rate.csv\", index=False)\n",
    "\n",
    "print(\"✅ Monthly risk-free rate has been saved to `monthly_risk_free_rate.csv`!\")\n",
    "# Display results\n",
    "print(monthly_rf_data.head())\n",
    "\n"
   ]
  },
  {
   "cell_type": "code",
   "execution_count": 9,
   "metadata": {},
   "outputs": [
    {
     "name": "stdout",
     "output_type": "stream",
     "text": [
      "WRDS recommends setting up a .pgpass file.\n",
      "Created .pgpass file successfully.\n",
      "You can create this file yourself at any time with the create_pgpass_file() function.\n",
      "Loading library list...\n",
      "Done\n",
      "CSV file saved: SP500_index_data_1996_2021.csv\n",
      "        date    sprtrn  spindx\n",
      "0 1996-01-31  0.032617  636.02\n",
      "1 1996-02-29  0.006934  640.43\n",
      "2 1996-03-29  0.007917  645.50\n",
      "3 1996-04-30  0.013432  654.17\n",
      "4 1996-05-31  0.022853  669.12\n"
     ]
    }
   ],
   "source": [
    "conn = wrds.Connection(wrds_username='WRDS_USERNAME')  # Connect to WRDS\n",
    "\n",
    "# Query the S&P 500 index options data\n",
    "query = \"\"\"\n",
    "SELECT caldt, sprtrn, spindx\n",
    "FROM crsp.msp500\n",
    "WHERE caldt BETWEEN '1996-01-01' AND '2021-12-31'\n",
    "\"\"\"\n",
    "df_index = conn.raw_sql(query)\n",
    "\n",
    "# Rename and format the date column\n",
    "df_index = df_index.rename(columns={'caldt': 'date'})\n",
    "df_index['date'] = pd.to_datetime(df_index['date'])\n",
    "\n",
    "# Save as CSV\n",
    "df_index.to_csv(\"SP500_index_data_1996_2021.csv\", index=False)\n",
    "\n",
    "# Check output\n",
    "print(\"CSV file saved: SP500_index_data_1996_2021.csv\")\n",
    "print(df_index.head())\n",
    "\n",
    "# Close WRDS connection\n",
    "conn.close()\n",
    "\n"
   ]
  }
 ],
 "metadata": {
  "kernelspec": {
   "display_name": "base",
   "language": "python",
   "name": "python3"
  },
  "language_info": {
   "codemirror_mode": {
    "name": "ipython",
    "version": 3
   },
   "file_extension": ".py",
   "mimetype": "text/x-python",
   "name": "python",
   "nbconvert_exporter": "python",
   "pygments_lexer": "ipython3",
   "version": "3.12.7"
  }
 },
 "nbformat": 4,
 "nbformat_minor": 2
}
