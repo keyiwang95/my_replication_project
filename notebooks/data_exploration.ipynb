{
 "cells": [
  {
   "cell_type": "code",
   "execution_count": null,
   "metadata": {
    "vscode": {
     "languageId": "plaintext"
    }
   },
   "outputs": [],
   "source": [
    "import pandas as pd\n",
    "import matplotlib.pyplot as plt\n",
    "\n",
    "df_clean = pd.read_csv(\"../data/cleaned/cleaned_data.csv\")\n",
    "\n",
    "df_clean.head()\n",
    "\n",
    "df_clean.describe()\n",
    "\n",
    "# Quick plot\n",
    "df_clean.plot(x=\"date\", y=\"spot_rate\")\n",
    "plt.show()\n",
    "\n"
   ]
  }
 ],
 "metadata": {
  "language_info": {
   "name": "python"
  }
 },
 "nbformat": 4,
 "nbformat_minor": 2
}
